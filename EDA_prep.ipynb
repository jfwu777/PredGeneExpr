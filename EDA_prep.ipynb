{
 "cells": [
  {
   "cell_type": "code",
   "execution_count": 3,
   "id": "13119703-1993-4da5-a223-49010bb8cd22",
   "metadata": {
    "pycharm": {
     "name": "#%%\n"
    }
   },
   "outputs": [],
   "source": [
    "import numpy as np\n",
    "import pandas as pd\n",
    "from tqdm import tqdm\n",
    "\n",
    "import matplotlib.pyplot as plt\n",
    "%matplotlib inline\n",
    "from tabulate import tabulate"
   ]
  },
  {
   "cell_type": "markdown",
   "id": "126fb617-e64a-4455-b7d7-a3f55cad8841",
   "metadata": {
    "pycharm": {
     "name": "#%% md\n"
    }
   },
   "source": [
    "##### generate mini dataset"
   ]
  },
  {
   "cell_type": "code",
   "execution_count": 47,
   "id": "fed231ab-ced6-42de-a4ab-a2994d517203",
   "metadata": {
    "pycharm": {
     "name": "#%%\n"
    }
   },
   "outputs": [],
   "source": [
    "with open('data/train_sequences.txt', 'r') as fpr:\n",
    "    with open('data/train_sequences_mini.txt', 'w') as fpw:\n",
    "        for _ in range(1024):\n",
    "            ln = fpr.readline()\n",
    "            fpw.write(ln)\n",
    "            \n",
    "with open('data/test_sequences.txt', 'r') as fpr:\n",
    "    with open('data/test_sequences_mini.txt', 'w') as fpw:\n",
    "        for _ in range(256):\n",
    "            ln = fpr.readline()\n",
    "            fpw.write(ln)"
   ]
  },
  {
   "cell_type": "code",
   "execution_count": 48,
   "id": "777320d7-acf1-4b0b-95a7-af0fdbe3e0e8",
   "metadata": {
    "pycharm": {
     "name": "#%%\n"
    }
   },
   "outputs": [],
   "source": [
    "train = pd.read_csv('data/train_sequences.txt', sep='\\t', header=None)\n",
    "test = pd.read_csv('data/test_sequences.txt', sep='\\t', header=None)"
   ]
  },
  {
   "cell_type": "markdown",
   "id": "7ddc8790-2908-405a-bc92-87d657f7d19f",
   "metadata": {
    "pycharm": {
     "name": "#%% md\n"
    }
   },
   "source": [
    "#### Embedding\n",
    "(A, T, C , G) + N\n",
    "\n",
    "quote: Each promoter sequence is comprised of the bases A, T, G, and C, and rarely includes an N (in the training data), when a base could not be confidently called during DNA sequencing."
   ]
  },
  {
   "cell_type": "code",
   "execution_count": null,
   "id": "70a7804c",
   "metadata": {
    "collapsed": false,
    "jupyter": {
     "outputs_hidden": false
    },
    "pycharm": {
     "name": "#%%\n"
    }
   },
   "outputs": [],
   "source": [
    "# Passed! don't run again\n",
    "\n",
    "# for s in tqdm(train[0].values):\n",
    "#     for _ in s:\n",
    "#         if _ not in ('A', 'T', 'C', 'G', 'N'):\n",
    "#             print(s)"
   ]
  },
  {
   "cell_type": "markdown",
   "id": "838e1a9c",
   "metadata": {
    "pycharm": {
     "name": "#%% md\n"
    }
   },
   "source": [
    "#### Statistics"
   ]
  },
  {
   "cell_type": "code",
   "execution_count": null,
   "id": "8d758542",
   "metadata": {
    "collapsed": false,
    "jupyter": {
     "outputs_hidden": false
    },
    "pycharm": {
     "name": "#%%\n"
    }
   },
   "outputs": [],
   "source": [
    "fig, ax = plt.subplots(figsize=(6, 4))\n",
    "ax.hist(train[1].values, bins=15)\n",
    "plt.show()"
   ]
  },
  {
   "cell_type": "code",
   "execution_count": null,
   "id": "415adc0c",
   "metadata": {
    "collapsed": false,
    "jupyter": {
     "outputs_hidden": false
    },
    "pycharm": {
     "name": "#%%\n"
    }
   },
   "outputs": [],
   "source": [
    "report = tabulate([\n",
    "    ('Max', train[1].values.max()),\n",
    "    ('Avg', train[1].values.mean()),\n",
    "    ('Med', np.median(train[1].values)),\n",
    "    ('Min', train[1].values.min())\n",
    "], tablefmt='fancy_grid'\n",
    ")\n",
    "print(report)"
   ]
  },
  {
   "cell_type": "markdown",
   "id": "4c1770e1",
   "metadata": {
    "pycharm": {
     "name": "#%% md\n"
    }
   },
   "source": [
    "#### Preprocess\n",
    "use mini set as example"
   ]
  },
  {
   "cell_type": "code",
   "execution_count": 50,
   "id": "2f174b44-9168-4292-bc29-678161527bc8",
   "metadata": {
    "collapsed": false,
    "jupyter": {
     "outputs_hidden": false
    },
    "pycharm": {
     "name": "#%%\n"
    }
   },
   "outputs": [],
   "source": [
    "import torch\n",
    "import torch.nn as nn"
   ]
  },
  {
   "cell_type": "code",
   "execution_count": 210,
   "id": "12f2da8f-65e8-4205-8ec8-b86c92ec2d91",
   "metadata": {
    "pycharm": {
     "name": "#%%\n"
    }
   },
   "outputs": [],
   "source": [
    "train = pd.read_csv('data/train_sequences.txt', sep='\\t', header=None)\n",
    "test = pd.read_csv('data/test_sequences.txt', sep='\\t', header=None)"
   ]
  },
  {
   "cell_type": "code",
   "execution_count": 211,
   "id": "a8b2dfac-11d0-48c2-b451-9b6b8cf67e93",
   "metadata": {
    "pycharm": {
     "name": "#%%\n"
    }
   },
   "outputs": [],
   "source": [
    "# max length = 142 in train and length = 110 for all test sequences\n",
    "maxlen = 150"
   ]
  },
  {
   "cell_type": "markdown",
   "id": "ea2f94f6",
   "metadata": {
    "pycharm": {
     "name": "#%% md\n"
    }
   },
   "source": [
    "##### pad sequence"
   ]
  },
  {
   "cell_type": "code",
   "execution_count": 212,
   "id": "385fa42f",
   "metadata": {
    "collapsed": false,
    "jupyter": {
     "outputs_hidden": false
    },
    "pycharm": {
     "name": "#%%\n"
    }
   },
   "outputs": [],
   "source": [
    "pad_dict = {\n",
    "    'A': 0,\n",
    "    'T': 1,\n",
    "    'C': 2,\n",
    "    'G': 3,\n",
    "    'N': 4,\n",
    "    '<PAD>': 5,\n",
    "}"
   ]
  },
  {
   "cell_type": "code",
   "execution_count": 213,
   "id": "23789ff5-8672-4254-b782-d74e02ae4e19",
   "metadata": {
    "pycharm": {
     "name": "#%%\n"
    }
   },
   "outputs": [],
   "source": [
    "def seq2tensor(seq, maxlength=150):\n",
    "    tensor = torch.zeros(maxlength, dtype=torch.long) + pad_dict['<PAD>']\n",
    "    for i in range(len(seq)):\n",
    "        tensor[i] = pad_dict[seq[i]]\n",
    "    return tensor"
   ]
  },
  {
   "cell_type": "code",
   "execution_count": 214,
   "id": "6cf7273c-97a7-417a-9ebc-7992ababb06b",
   "metadata": {
    "pycharm": {
     "name": "#%%\n"
    }
   },
   "outputs": [],
   "source": [
    "def get_data(df):\n",
    "    seqs = [None] * len(df)\n",
    "    scores = [None] * len(df)\n",
    "    for i in tqdm(range(len(df))):\n",
    "        seqs[i] = seq2tensor(df[0][i]).long()\n",
    "        scores[i] = df[1][i]\n",
    "    seqs = torch.stack(seqs)\n",
    "    scores = torch.tensor(scores)\n",
    "    return seqs, scores"
   ]
  },
  {
   "cell_type": "code",
   "execution_count": 224,
   "id": "6d36222f-d81a-490a-a035-3a3b2913309d",
   "metadata": {
    "pycharm": {
     "name": "#%%\n"
    }
   },
   "outputs": [
    {
     "name": "stderr",
     "output_type": "stream",
     "text": [
      "100%|██████████| 6739258/6739258 [47:33<00:00, 2361.42it/s]  \n"
     ]
    }
   ],
   "source": [
    "train_seqs, train_scores = get_data(train)"
   ]
  },
  {
   "cell_type": "code",
   "execution_count": 225,
   "id": "a034ce78-2881-4450-9c94-4fdb90c0ecd4",
   "metadata": {
    "pycharm": {
     "name": "#%%\n"
    }
   },
   "outputs": [
    {
     "name": "stderr",
     "output_type": "stream",
     "text": [
      "100%|██████████| 71103/71103 [00:29<00:00, 2440.17it/s]\n"
     ]
    }
   ],
   "source": [
    "test_seqs, test_scores = get_data(test)"
   ]
  },
  {
   "cell_type": "code",
   "execution_count": 226,
   "id": "3348fe04-469d-4d9f-8b26-34849d3ec108",
   "metadata": {
    "pycharm": {
     "name": "#%%\n"
    }
   },
   "outputs": [],
   "source": [
    "torch.save((train_seqs, train_scores), 'train_full.pt')"
   ]
  },
  {
   "cell_type": "code",
   "execution_count": 227,
   "id": "a6e19d5b-43a1-4e54-9652-fa6777fd631d",
   "metadata": {
    "pycharm": {
     "name": "#%%\n"
    }
   },
   "outputs": [],
   "source": [
    "torch.save((test_seqs, test_scores), 'test_full.pt')"
   ]
  },
  {
   "cell_type": "code",
   "execution_count": 228,
   "id": "7e4ac390-bd30-46bb-9dd0-9f555c4e7d37",
   "metadata": {
    "pycharm": {
     "name": "#%%\n"
    }
   },
   "outputs": [
    {
     "data": {
      "text/plain": [
       "tensor([[1, 3, 2,  ..., 5, 5, 5],\n",
       "        [1, 3, 2,  ..., 5, 5, 5],\n",
       "        [1, 3, 2,  ..., 5, 5, 5],\n",
       "        ...,\n",
       "        [1, 3, 2,  ..., 5, 5, 5],\n",
       "        [1, 3, 2,  ..., 5, 5, 5],\n",
       "        [1, 3, 2,  ..., 5, 5, 5]])"
      ]
     },
     "execution_count": 228,
     "metadata": {},
     "output_type": "execute_result"
    }
   ],
   "source": [
    "train_seqs"
   ]
  },
  {
   "cell_type": "code",
   "execution_count": null,
   "id": "ad0bcf31-3620-4b7f-a462-02ec6b3a3037",
   "metadata": {
    "pycharm": {
     "name": "#%%\n"
    }
   },
   "outputs": [],
   "source": []
  }
 ],
 "metadata": {
  "kernelspec": {
   "display_name": "py39",
   "language": "python",
   "name": "py39"
  },
  "language_info": {
   "codemirror_mode": {
    "name": "ipython",
    "version": 3
   },
   "file_extension": ".py",
   "mimetype": "text/x-python",
   "name": "python",
   "nbconvert_exporter": "python",
   "pygments_lexer": "ipython3",
   "version": "3.9.5"
  }
 },
 "nbformat": 4,
 "nbformat_minor": 5
}